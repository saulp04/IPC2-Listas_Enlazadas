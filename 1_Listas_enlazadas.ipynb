{
  "nbformat": 4,
  "nbformat_minor": 0,
  "metadata": {
    "colab": {
      "name": "1. Listas enlazadas.ipynb",
      "provenance": [],
      "authorship_tag": "ABX9TyN11GPkuw3Iw6DTR5cIv2Lb",
      "include_colab_link": true
    },
    "kernelspec": {
      "name": "python3",
      "display_name": "Python 3"
    },
    "language_info": {
      "name": "python"
    }
  },
  "cells": [
    {
      "cell_type": "markdown",
      "metadata": {
        "id": "view-in-github",
        "colab_type": "text"
      },
      "source": [
        "<a href=\"https://colab.research.google.com/github/saulp04/IPC2-Listas_Enlazadas/blob/main/1_Listas_enlazadas.ipynb\" target=\"_parent\"><img src=\"https://colab.research.google.com/assets/colab-badge.svg\" alt=\"Open In Colab\"/></a>"
      ]
    },
    {
      "cell_type": "markdown",
      "metadata": {
        "id": "5hH-m2iKD6tm"
      },
      "source": [
        "## **LISTAS ENLAZADAS**\n",
        "**Definición de la clase Estudiante**"
      ]
    },
    {
      "cell_type": "code",
      "metadata": {
        "id": "-OHae5QOF72-"
      },
      "source": [
        "class estudiante:\n",
        "\n",
        "  def __init__(self, carne, nombre, edad, direccion, telefono, email, carrera, puesto):\n",
        "    self.carne = carne\n",
        "    self.nombre = nombre\n",
        "    self.edad = edad\n",
        "    self.direccion = direccion\n",
        "    self.telefono = telefono\n",
        "    self.email = email\n",
        "    self.carrera = carrera\n",
        "    self.puesto = puesto"
      ],
      "execution_count": 6,
      "outputs": []
    },
    {
      "cell_type": "markdown",
      "metadata": {
        "id": "5pUd4dWGMmGI"
      },
      "source": [
        "**Definición de la clase Nodo**"
      ]
    },
    {
      "cell_type": "code",
      "metadata": {
        "id": "hiDr_fb8MpzM"
      },
      "source": [
        "class nodo:\n",
        "\n",
        "  def __init__(self, estudiante=None, siguiente=None):\n",
        "    self.estudiante = estudiante\n",
        "    self.siguiente = siguiente"
      ],
      "execution_count": 7,
      "outputs": []
    },
    {
      "cell_type": "markdown",
      "metadata": {
        "id": "ynMDeF2GO_a6"
      },
      "source": [
        "**Definición de la clase Lista Enlazada**"
      ]
    },
    {
      "cell_type": "code",
      "metadata": {
        "id": "fb1je8n_PCk5"
      },
      "source": [
        "class lista_enlazada:\n",
        "\n",
        "  def __init__(self):\n",
        "    self.primero = None\n",
        "\n",
        "  def insertar(self, estudiante):\n",
        "    if self.primero is None:\n",
        "      self.primero = nodo(estudiante=estudiante)\n",
        "      return\n",
        "    actual = self.primero\n",
        "    while actual.siguiente:\n",
        "      actual = actual.siguiente\n",
        "    actual.siguiente = nodo(estudiante=estudiante)    \n",
        "\n",
        "  def recorrer(self):\n",
        "    actual = self.primero\n",
        "    while actual != None:\n",
        "      print(\"carne: \", actual.estudiante.carne, \"nombre: \", actual.estudiante.nombre, \"e-mail: \", actual.estudiante.email, \"->\") \n",
        "      actual = actual.siguiente  \n",
        "\n",
        "  def eliminar(self, carne):\n",
        "    actual = self.primero\n",
        "    anterior = None\n",
        "\n",
        "    while actual and actual.estudiante.carne != carne:\n",
        "       anterior = actual\n",
        "       actual = actual.siguiente\n",
        "\n",
        "    if anterior is None:\n",
        "      self.primero = actual.siguiente\n",
        "      actual.siguiente = None \n",
        "    elif actual:\n",
        "      anterior.siguietne = actual.siguiente \n",
        "      actual.siguiente = None     \n"
      ],
      "execution_count": 15,
      "outputs": []
    },
    {
      "cell_type": "markdown",
      "metadata": {
        "id": "-wl6SZl7dVj1"
      },
      "source": [
        "**Creación de Objetos Estudiante**"
      ]
    },
    {
      "cell_type": "code",
      "metadata": {
        "id": "2JCMs7Dbdaq0"
      },
      "source": [
        "e1 = estudiante(201915059, \"Gerson Ortiz\", 20, \"9 Calle 10-02 zona 1\", 24400101, \"gerson.ortiz@gmail.com\", \"Ingeniería en Sistemas\", \"Programador Jr\")\n",
        "e2 = estudiante(201915060, \"Karen Hurtarte\", 21, \"7 Calle 10-02 zona 1\", 24400102, \"karen.hurtarte@gmail.com\", \"Ingeniería en Sistemas\", \"Programador Jr\")\n",
        "e3 = estudiante(201915059, \"Luis Mendez\", 22, \"8 Calle 10-02 zona 1\", 24400103, \"luis.mendez@gmail.com\", \"Ingeniería en Sistemas\", \"Programador Jr\")"
      ],
      "execution_count": 16,
      "outputs": []
    },
    {
      "cell_type": "markdown",
      "metadata": {
        "id": "GsDp4978mxAy"
      },
      "source": [
        "**Inserción**"
      ]
    },
    {
      "cell_type": "code",
      "metadata": {
        "id": "Yo-3ClhGmztf"
      },
      "source": [
        "lista_e = lista_enlazada()\n",
        "lista_e.insertar(e1)\n",
        "lista_e.insertar(e2)\n",
        "lista_e.insertar(e3)"
      ],
      "execution_count": 17,
      "outputs": []
    },
    {
      "cell_type": "markdown",
      "metadata": {
        "id": "g_YtWENWnjuA"
      },
      "source": [
        "**Recorrer la Lista**"
      ]
    },
    {
      "cell_type": "code",
      "metadata": {
        "colab": {
          "base_uri": "https://localhost:8080/"
        },
        "id": "sW5rISt1nnGJ",
        "outputId": "91c787b3-210f-4779-9be9-6d7461531a7c"
      },
      "source": [
        "lista_e.recorrer()"
      ],
      "execution_count": 18,
      "outputs": [
        {
          "output_type": "stream",
          "text": [
            "carne:  201915059 nombre:  Gerson Ortiz e-mail:  gerson.ortiz@gmail.com ->\n",
            "carne:  201915060 nombre:  Karen Hurtarte e-mail:  karen.hurtarte@gmail.com ->\n",
            "carne:  201915059 nombre:  Luis Mendez e-mail:  luis.mendez@gmail.com ->\n"
          ],
          "name": "stdout"
        }
      ]
    },
    {
      "cell_type": "markdown",
      "metadata": {
        "id": "Z-mGcmjV-X7n"
      },
      "source": [
        "**Eliminar un nodo de la Lista**"
      ]
    },
    {
      "cell_type": "code",
      "metadata": {
        "colab": {
          "base_uri": "https://localhost:8080/"
        },
        "id": "2Dh7cgxg-bTM",
        "outputId": "84f1e850-79dc-44b3-8627-faffe6a2e358"
      },
      "source": [
        "lista_e.eliminar(201915060)\n",
        "lista_e.recorrer()"
      ],
      "execution_count": 19,
      "outputs": [
        {
          "output_type": "stream",
          "text": [
            "carne:  201915059 nombre:  Gerson Ortiz e-mail:  gerson.ortiz@gmail.com ->\n",
            "carne:  201915060 nombre:  Karen Hurtarte e-mail:  karen.hurtarte@gmail.com ->\n"
          ],
          "name": "stdout"
        }
      ]
    }
  ]
}